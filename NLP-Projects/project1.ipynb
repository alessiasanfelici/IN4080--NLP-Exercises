{
 "cells": [
  {
   "cell_type": "markdown",
   "metadata": {},
   "source": [
    "**IN4080 – 2023**\n",
    "\n",
    "**Mandatory assignment 1** - Alessia Sanfelici"
   ]
  },
  {
   "cell_type": "code",
   "execution_count": 46,
   "metadata": {},
   "outputs": [],
   "source": [
    "import nltk\n",
    "import re\n",
    "import pandas as pd\n",
    "import numpy as np\n",
    "import matplotlib.pyplot as plt\n",
    "import nltk.tokenize as tok\n",
    "import string\n",
    "import collections\n",
    "import seaborn as sns\n",
    "from nltk.corpus import brown\n",
    "from sklearn import metrics\n",
    "from sklearn.model_selection import train_test_split\n",
    "from sklearn.feature_extraction.text import CountVectorizer\n",
    "from sklearn.naive_bayes import MultinomialNB, BernoulliNB \n",
    "from sklearn.model_selection import cross_val_score\n",
    "from sklearn.linear_model import LogisticRegression"
   ]
  },
  {
   "cell_type": "markdown",
   "metadata": {},
   "source": [
    "**PART 1 – Conditional frequency distributions (35 pts)**"
   ]
  },
  {
   "cell_type": "markdown",
   "metadata": {},
   "source": [
    "a. Conduct a similar experiment as the one mentioned above with the genres: news, religion, \n",
    "government, fiction, romance as conditions, and occurrences of the words: he, she, her, him, as events. Make a table of the conditional frequencies and deliver code and table.\n",
    "Note: you may use the tools from NLTK or create a Pandas dataframe, whichever you prefer."
   ]
  },
  {
   "cell_type": "code",
   "execution_count": 47,
   "metadata": {},
   "outputs": [
    {
     "name": "stdout",
     "output_type": "stream",
     "text": [
      "             he  him  she  her \n",
      "      news  642   93   77  121 \n",
      "  religion  206   94   12    8 \n",
      "government  169   26    1    3 \n",
      "   fiction 1308  382  425  413 \n",
      "   romance 1068  340  728  680 \n"
     ]
    }
   ],
   "source": [
    "cfd = nltk.ConditionalFreqDist((genre, word.lower()) for genre in brown.categories() \n",
    "                               for word in brown.words(categories=genre))\n",
    "genres = [\"news\", \"religion\", \"government\", \"fiction\", \"romance\"]\n",
    "pronouns = [\"he\", \"him\", \"she\", \"her\"]\n",
    "\n",
    "# Table of conditional frequencies\n",
    "cfd.tabulate(conditions = genres, samples = pronouns)"
   ]
  },
  {
   "cell_type": "markdown",
   "metadata": {},
   "source": [
    "b. Describe your results. How does gender vary across genres?"
   ]
  },
  {
   "cell_type": "markdown",
   "metadata": {},
   "source": [
    "By looking at the data, we can see that, for both religion and government, the most used pronouns are the masculine ones, with just a few cases of feminine pronouns, especially for the government sector. Focusing on news, the masculine pronouns still prevails, but the difference is less than in the previous cases. We can also notice that, in fiction and romance, the feminine pronouns finally increase their frequency, reaching high levels, especially in romance. In these two genres, the masculine pronuons still prevales, but with a smaller difference than for the other genres."
   ]
  },
  {
   "cell_type": "markdown",
   "metadata": {},
   "source": [
    "As a conclusion, the masculine pronouns are more frequent than the feminine ones across all genres. Moreover, it can be noticed that the relative frequency of $\\textit{her}$ with respect to $\\textit{she}$ seems higher than the relative frequency of $\\textit{him}$ with respect to $\\textit{he}$."
   ]
  },
  {
   "cell_type": "markdown",
   "metadata": {},
   "source": [
    "Hypothesis: The relative frequency of the object form, her, of the feminine personal pronoun (she or \n",
    "her) is higher than the relative frequency of the object form, him, of the masculine personal pronoun, (he \n",
    "or him).\n"
   ]
  },
  {
   "cell_type": "markdown",
   "metadata": {},
   "source": [
    "c. First, consider the complete Brown corpus. Construct a conditional frequency distribution, which \n",
    "uses gender as condition, and for each gender counts the occurrences of nominative forms (he, \n",
    "she) and object forms (him, her). Report the results in a two-by-two table. "
   ]
  },
  {
   "cell_type": "code",
   "execution_count": 48,
   "metadata": {},
   "outputs": [
    {
     "name": "stdout",
     "output_type": "stream",
     "text": [
      "       Nominative form  Objective form \n",
      "Female            2860            3036 \n",
      "  Male            9548            2619 \n"
     ]
    }
   ],
   "source": [
    "nom = [\"he\", \"she\"]\n",
    "obj = [\"him\", \"her\"]\n",
    "text = brown.words()\n",
    "\n",
    "cdf = nltk.ConditionalFreqDist()\n",
    "\n",
    "# Count the frequency of nominative and objective form according to gender\n",
    "for word in text:\n",
    "    if word.lower() == nom[0]:\n",
    "        cdf[\"Male\"][\"Nominative form\"] += 1\n",
    "    elif word.lower() == nom[1]:\n",
    "        cdf[\"Female\"][\"Nominative form\"] += 1\n",
    "    elif word.lower() == obj[0]:\n",
    "        cdf[\"Male\"][\"Objective form\"] += 1\n",
    "    elif word.lower() == obj[1]:\n",
    "        cdf[\"Female\"][\"Objective form\"] += 1\n",
    "        \n",
    "cdf.tabulate()"
   ]
  },
  {
   "cell_type": "markdown",
   "metadata": {},
   "source": [
    "Then calculate the relative frequency of her from she or her and compare to the relative frequency of him from he or him. Report the numbers. Submit table, numbers and code you used."
   ]
  },
  {
   "cell_type": "code",
   "execution_count": 50,
   "metadata": {},
   "outputs": [
    {
     "name": "stdout",
     "output_type": "stream",
     "text": [
      "Relative frequency of \"her\" from \"she\" or \"her\": 0.5149253731343284\n",
      "-------------------------\n",
      "Relative frequency of \"him\" from \"he\" or \"him\": 0.21525437659242214\n"
     ]
    }
   ],
   "source": [
    "relative_her = cdf[\"Female\"][\"Objective form\"]/(cdf[\"Female\"][\"Objective form\"] +\n",
    "                                                cdf[\"Female\"][\"Nominative form\"])\n",
    "print(\"Relative frequency of \\\"her\\\" from \\\"she\\\" or \\\"her\\\":\", relative_her)\n",
    "\n",
    "print(\"-------------------------\")\n",
    "\n",
    "relative_him = cdf[\"Male\"][\"Objective form\"]/(cdf[\"Male\"][\"Objective form\"] +\n",
    "                                              cdf[\"Male\"][\"Nominative form\"])\n",
    "print(\"Relative frequency of \\\"him\\\" from \\\"he\\\" or \\\"him\\\":\", relative_him)"
   ]
  },
  {
   "cell_type": "markdown",
   "metadata": {},
   "source": [
    "It is tempting to conclude from this that the object form of the feminine pronoun is relatively more \n",
    "frequent than the object form of the masculine pronoun. Beware, however, that her is not only the \n",
    "feminine equivalent of him, but also of his. So what can we do?"
   ]
  },
  {
   "cell_type": "markdown",
   "metadata": {},
   "source": [
    "Luckily, the Brown corpus is annotated with part-of-speech tags, and we can use these tags to distinguish \n",
    "the two functions of her."
   ]
  },
  {
   "cell_type": "markdown",
   "metadata": {},
   "source": [
    "d. Use the tagged Brown corpus to count the occurrences of she, he, her, him as personal pronouns and her, his, hers as possessive pronouns. Report the results in a two-ways table.\n"
   ]
  },
  {
   "cell_type": "code",
   "execution_count": 51,
   "metadata": {},
   "outputs": [
    {
     "data": {
      "text/html": [
       "<div>\n",
       "<style scoped>\n",
       "    .dataframe tbody tr th:only-of-type {\n",
       "        vertical-align: middle;\n",
       "    }\n",
       "\n",
       "    .dataframe tbody tr th {\n",
       "        vertical-align: top;\n",
       "    }\n",
       "\n",
       "    .dataframe thead th {\n",
       "        text-align: right;\n",
       "    }\n",
       "</style>\n",
       "<table border=\"1\" class=\"dataframe\">\n",
       "  <thead>\n",
       "    <tr style=\"text-align: right;\">\n",
       "      <th></th>\n",
       "      <th>Personal pronouns</th>\n",
       "      <th>Possessive pronouns</th>\n",
       "    </tr>\n",
       "  </thead>\n",
       "  <tbody>\n",
       "    <tr>\n",
       "      <th>she</th>\n",
       "      <td>2857.0</td>\n",
       "      <td>0.0</td>\n",
       "    </tr>\n",
       "    <tr>\n",
       "      <th>he</th>\n",
       "      <td>9541.0</td>\n",
       "      <td>0.0</td>\n",
       "    </tr>\n",
       "    <tr>\n",
       "      <th>her</th>\n",
       "      <td>1107.0</td>\n",
       "      <td>1925.0</td>\n",
       "    </tr>\n",
       "    <tr>\n",
       "      <th>him</th>\n",
       "      <td>2614.0</td>\n",
       "      <td>0.0</td>\n",
       "    </tr>\n",
       "    <tr>\n",
       "      <th>his</th>\n",
       "      <td>0.0</td>\n",
       "      <td>6983.0</td>\n",
       "    </tr>\n",
       "    <tr>\n",
       "      <th>hers</th>\n",
       "      <td>0.0</td>\n",
       "      <td>16.0</td>\n",
       "    </tr>\n",
       "  </tbody>\n",
       "</table>\n",
       "</div>"
      ],
      "text/plain": [
       "      Personal pronouns  Possessive pronouns\n",
       "she              2857.0                  0.0\n",
       "he               9541.0                  0.0\n",
       "her              1107.0               1925.0\n",
       "him              2614.0                  0.0\n",
       "his                 0.0               6983.0\n",
       "hers                0.0                 16.0"
      ]
     },
     "execution_count": 51,
     "metadata": {},
     "output_type": "execute_result"
    }
   ],
   "source": [
    "wordlist = brown.tagged_words()\n",
    "personal = [\"she\", \"he\", \"her\", \"him\"]\n",
    "possessive = [\"her\", \"his\", \"hers\"]\n",
    "d = {\"Personal pronouns\": {\"she\": 0, \"he\": 0, \"her\" : 0, \"him\" : 0}, \n",
    "     \"Possessive pronouns\": {\"her\" : 0, \"his\" : 0, \"hers\" : 0}}\n",
    "\n",
    "# Update the values in the dictionary according to the frequency of the pronouns\n",
    "for word, tag in wordlist:\n",
    "    if tag == \"PPS\" or tag == \"PPO\":\n",
    "        if word.lower() in personal:\n",
    "            d[\"Personal pronouns\"][word.lower()] += 1\n",
    "    if tag == \"PP$$\" or tag == \"PP$\":\n",
    "        if word.lower() in possessive:\n",
    "            d[\"Possessive pronouns\"][word.lower()] += 1\n",
    "\n",
    "# Transform in dataframe format\n",
    "df_pronouns = pd.DataFrame.from_dict(d)\n",
    "df_pronouns = df_pronouns.fillna(0)\n",
    "df_pronouns"
   ]
  },
  {
   "cell_type": "code",
   "execution_count": 52,
   "metadata": {},
   "outputs": [
    {
     "data": {
      "text/html": [
       "<div>\n",
       "<style scoped>\n",
       "    .dataframe tbody tr th:only-of-type {\n",
       "        vertical-align: middle;\n",
       "    }\n",
       "\n",
       "    .dataframe tbody tr th {\n",
       "        vertical-align: top;\n",
       "    }\n",
       "\n",
       "    .dataframe thead th {\n",
       "        text-align: right;\n",
       "    }\n",
       "</style>\n",
       "<table border=\"1\" class=\"dataframe\">\n",
       "  <thead>\n",
       "    <tr style=\"text-align: right;\">\n",
       "      <th></th>\n",
       "      <th>Personal pronouns</th>\n",
       "      <th>Possessive pronouns</th>\n",
       "    </tr>\n",
       "  </thead>\n",
       "  <tbody>\n",
       "    <tr>\n",
       "      <th>Feminine</th>\n",
       "      <td>3964</td>\n",
       "      <td>1941</td>\n",
       "    </tr>\n",
       "    <tr>\n",
       "      <th>Masculine</th>\n",
       "      <td>12155</td>\n",
       "      <td>6983</td>\n",
       "    </tr>\n",
       "  </tbody>\n",
       "</table>\n",
       "</div>"
      ],
      "text/plain": [
       "           Personal pronouns  Possessive pronouns\n",
       "Feminine                3964                 1941\n",
       "Masculine              12155                 6983"
      ]
     },
     "execution_count": 52,
     "metadata": {},
     "output_type": "execute_result"
    }
   ],
   "source": [
    "pers_fem = [\"she\", \"her\"]\n",
    "pers_mas = [\"he\", \"him\"]\n",
    "poss_fem = [\"her\", \"hers\"]\n",
    "poss_mas = [\"his\"]\n",
    "\n",
    "d = {\"Personal pronouns\": {\"Feminine\": 0, \"Masculine\": 0}, \n",
    "     \"Possessive pronouns\": {\"Feminine\": 0, \"Masculine\": 0}}\n",
    "\n",
    "# Update the values in the dictionary according to the frequency of the pronouns\n",
    "for word, tag in wordlist:\n",
    "    if tag == \"PPS\" or tag == \"PPO\":\n",
    "        if word.lower() in pers_fem:\n",
    "            d[\"Personal pronouns\"][\"Feminine\"] += 1\n",
    "        if word.lower() in pers_mas:\n",
    "            d[\"Personal pronouns\"][\"Masculine\"] += 1\n",
    "    if tag == \"PP$$\" or tag == \"PP$\":\n",
    "        if word.lower() in poss_fem:\n",
    "            d[\"Possessive pronouns\"][\"Feminine\"] += 1\n",
    "        if word.lower() in poss_mas:\n",
    "            d[\"Possessive pronouns\"][\"Masculine\"] += 1\n",
    "\n",
    "# Transform in dataframe format\n",
    "df_pronouns_gender = pd.DataFrame.from_dict(d)\n",
    "df_pronouns_gender"
   ]
  },
  {
   "cell_type": "markdown",
   "metadata": {},
   "source": [
    "e. We can now correct the numbers from point (b) above. What percentage of the feminine \n",
    "personal pronoun occurs in nominative form and in object form? What are the respective\n",
    "percentages for the masculine personal pronoun?"
   ]
  },
  {
   "cell_type": "code",
   "execution_count": 53,
   "metadata": {},
   "outputs": [
    {
     "name": "stdout",
     "output_type": "stream",
     "text": [
      "Percentage of the feminine personal pronoun in nominative form: 72.0736629667003 %.\n",
      "-------------------------\n",
      "Percentage of the feminine personal pronoun in object form: 27.926337033299696 %.\n"
     ]
    }
   ],
   "source": [
    "pers_nom = df_pronouns.loc[\"she\", \"Personal pronouns\"]*100/(\n",
    "    df_pronouns.loc[\"she\"] + df_pronouns.loc[\"her\"]).loc[\"Personal pronouns\"]\n",
    "print(\"Percentage of the feminine personal pronoun in nominative form:\", pers_nom, \"%.\")\n",
    "\n",
    "print(\"-------------------------\")\n",
    "\n",
    "pers_obj = df_pronouns.loc[\"her\", \"Personal pronouns\"]*100/(\n",
    "    df_pronouns.loc[\"she\"] + df_pronouns.loc[\"her\"]).loc[\"Personal pronouns\"]\n",
    "print(\"Percentage of the feminine personal pronoun in object form:\", pers_obj, \"%.\")"
   ]
  },
  {
   "cell_type": "code",
   "execution_count": 54,
   "metadata": {},
   "outputs": [
    {
     "name": "stdout",
     "output_type": "stream",
     "text": [
      "Percentage of the masculine personal pronoun in nominative form: 78.49444672974084 %.\n",
      "-------------------------\n",
      "Percentage of the masculine personal pronoun in object form: 21.505553270259153 %.\n"
     ]
    }
   ],
   "source": [
    "pers_nom = df_pronouns.loc[\"he\", \"Personal pronouns\"]*100/(\n",
    "    df_pronouns.loc[\"he\"] + df_pronouns.loc[\"him\"]).loc[\"Personal pronouns\"]\n",
    "print(\"Percentage of the masculine personal pronoun in nominative form:\", pers_nom, \"%.\")\n",
    "\n",
    "print(\"-------------------------\")\n",
    "\n",
    "pers_obj = df_pronouns.loc[\"him\", \"Personal pronouns\"]*100/(\n",
    "    df_pronouns.loc[\"he\"] + df_pronouns.loc[\"him\"]).loc[\"Personal pronouns\"]\n",
    "print(\"Percentage of the masculine personal pronoun in object form:\", pers_obj, \"%.\")"
   ]
  },
  {
   "cell_type": "markdown",
   "metadata": {},
   "source": [
    "f. Illustrate the numbers from (d) with a bar chart."
   ]
  },
  {
   "cell_type": "code",
   "execution_count": 55,
   "metadata": {},
   "outputs": [
    {
     "data": {
      "image/png": "[encoded data removed]",
      "text/plain": [
       "<Figure size 640x480 with 1 Axes>"
      ]
     },
     "metadata": {},
     "output_type": "display_data"
    }
   ],
   "source": [
    "df_pronouns_gender.plot(kind = \"bar\", color = [\"c\", \"orange\"])\n",
    "plt.title(\"Occurrences of personal and possessive pronouns\")\n",
    "plt.xticks(rotation = 0)\n",
    "plt.show()"
   ]
  },
  {
   "cell_type": "markdown",
   "metadata": {},
   "source": [
    "The bar for \"hers\" is not visible because it has only 16 occurrences, and so it is very small with respect to the other pronouns."
   ]
  },
  {
   "cell_type": "markdown",
   "metadata": {},
   "source": [
    "g. Write a short text (200-300 words) and discuss the consequences of your findings. Why do you \n",
    "think the masculine pronoun is more frequent than the feminine pronoun? If you find that the \n",
    "there is a different distribution between nominative and object forms for the masculine and the\n",
    "feminine pronouns, why do you think that is the case? Do you see any consequences for the development of language technology in general, and for language technology derived from \n",
    "example texts in particular? Make use of what you know about the Brown corpus."
   ]
  },
  {
   "cell_type": "markdown",
   "metadata": {},
   "source": [
    "I think that the masculine pronoun is more frequent than the feminine pronoun because of a factor of society and belief. This finding reflects gender biases, due to a patriarchal society. Moreover, when dealing with english language, if we want to talk about a person in a generic way (without any specification about gender), we generally use the masculine pronouns (and not the feminine ones).  65"
   ]
  },
  {
   "cell_type": "markdown",
   "metadata": {},
   "source": []
  },
  {
   "cell_type": "markdown",
   "metadata": {},
   "source": [
    "For sure, there are consequences for the development of language technology. This is due to the fact that, when developing models, we train them with a bias, where masculine pronouns dominate over feminine pronouns. As a consequence, even the models will be affected by this bias, thus creating a vicious circle and renforcing stereotypes. 54"
   ]
  },
  {
   "cell_type": "markdown",
   "metadata": {},
   "source": [
    "**Part 2 – Zipf’s law of abbreviation (30 pts)**"
   ]
  },
  {
   "cell_type": "code",
   "execution_count": 56,
   "metadata": {},
   "outputs": [],
   "source": [
    "# Open the book file\n",
    "f = open(\"book.txt\", \"r\", encoding=\"utf-8-sig\")\n",
    "t = f.read()"
   ]
  },
  {
   "cell_type": "markdown",
   "metadata": {},
   "source": [
    "a. You will see that the downloaded text contains a preamble and a long appendix about the \n",
    "Gutenberg project and copyrights. Load the file with Python and remove these parts so that you\n",
    "only use the book text."
   ]
  },
  {
   "cell_type": "code",
   "execution_count": 57,
   "metadata": {},
   "outputs": [],
   "source": [
    "t = t.split(\"*** START OF THE PROJECT GUTENBERG EBOOK THE ADVENTURES OF TOM SAWYER, COMPLETE ***\")[1]\n",
    "t = t.split(\"*** END OF THE PROJECT GUTENBERG EBOOK THE ADVENTURES OF TOM SAWYER, COMPLETE ***\")[0]"
   ]
  },
  {
   "cell_type": "markdown",
   "metadata": {},
   "source": [
    "b. Tokenize the text, remove the punctuation marks, and produce a frequency distribution of the \n",
    "word lengths. Format this distribution as a Pandas dataframe."
   ]
  },
  {
   "cell_type": "code",
   "execution_count": 58,
   "metadata": {},
   "outputs": [
    {
     "name": "stdout",
     "output_type": "stream",
     "text": [
      "{3: 18723, 10: 810, 2: 11281, 6: 5213, 4: 14154, 5: 7542, 9: 1531, 7: 3843, 8: 2359, 1: 4508, 13: 73, 11: 458, 12: 200, 15: 7, 14: 33, 16: 1}\n"
     ]
    },
    {
     "data": {
      "text/html": [
       "<div>\n",
       "<style scoped>\n",
       "    .dataframe tbody tr th:only-of-type {\n",
       "        vertical-align: middle;\n",
       "    }\n",
       "\n",
       "    .dataframe tbody tr th {\n",
       "        vertical-align: top;\n",
       "    }\n",
       "\n",
       "    .dataframe thead th {\n",
       "        text-align: right;\n",
       "    }\n",
       "</style>\n",
       "<table border=\"1\" class=\"dataframe\">\n",
       "  <thead>\n",
       "    <tr style=\"text-align: right;\">\n",
       "      <th></th>\n",
       "      <th>Length</th>\n",
       "      <th>Frequency</th>\n",
       "    </tr>\n",
       "  </thead>\n",
       "  <tbody>\n",
       "    <tr>\n",
       "      <th>0</th>\n",
       "      <td>3</td>\n",
       "      <td>18723</td>\n",
       "    </tr>\n",
       "    <tr>\n",
       "      <th>1</th>\n",
       "      <td>10</td>\n",
       "      <td>810</td>\n",
       "    </tr>\n",
       "    <tr>\n",
       "      <th>2</th>\n",
       "      <td>2</td>\n",
       "      <td>11281</td>\n",
       "    </tr>\n",
       "    <tr>\n",
       "      <th>3</th>\n",
       "      <td>6</td>\n",
       "      <td>5213</td>\n",
       "    </tr>\n",
       "    <tr>\n",
       "      <th>4</th>\n",
       "      <td>4</td>\n",
       "      <td>14154</td>\n",
       "    </tr>\n",
       "    <tr>\n",
       "      <th>5</th>\n",
       "      <td>5</td>\n",
       "      <td>7542</td>\n",
       "    </tr>\n",
       "    <tr>\n",
       "      <th>6</th>\n",
       "      <td>9</td>\n",
       "      <td>1531</td>\n",
       "    </tr>\n",
       "    <tr>\n",
       "      <th>7</th>\n",
       "      <td>7</td>\n",
       "      <td>3843</td>\n",
       "    </tr>\n",
       "    <tr>\n",
       "      <th>8</th>\n",
       "      <td>8</td>\n",
       "      <td>2359</td>\n",
       "    </tr>\n",
       "    <tr>\n",
       "      <th>9</th>\n",
       "      <td>1</td>\n",
       "      <td>4508</td>\n",
       "    </tr>\n",
       "    <tr>\n",
       "      <th>10</th>\n",
       "      <td>13</td>\n",
       "      <td>73</td>\n",
       "    </tr>\n",
       "    <tr>\n",
       "      <th>11</th>\n",
       "      <td>11</td>\n",
       "      <td>458</td>\n",
       "    </tr>\n",
       "    <tr>\n",
       "      <th>12</th>\n",
       "      <td>12</td>\n",
       "      <td>200</td>\n",
       "    </tr>\n",
       "    <tr>\n",
       "      <th>13</th>\n",
       "      <td>15</td>\n",
       "      <td>7</td>\n",
       "    </tr>\n",
       "    <tr>\n",
       "      <th>14</th>\n",
       "      <td>14</td>\n",
       "      <td>33</td>\n",
       "    </tr>\n",
       "    <tr>\n",
       "      <th>15</th>\n",
       "      <td>16</td>\n",
       "      <td>1</td>\n",
       "    </tr>\n",
       "  </tbody>\n",
       "</table>\n",
       "</div>"
      ],
      "text/plain": [
       "    Length  Frequency\n",
       "0        3      18723\n",
       "1       10        810\n",
       "2        2      11281\n",
       "3        6       5213\n",
       "4        4      14154\n",
       "5        5       7542\n",
       "6        9       1531\n",
       "7        7       3843\n",
       "8        8       2359\n",
       "9        1       4508\n",
       "10      13         73\n",
       "11      11        458\n",
       "12      12        200\n",
       "13      15          7\n",
       "14      14         33\n",
       "15      16          1"
      ]
     },
     "execution_count": 58,
     "metadata": {},
     "output_type": "execute_result"
    }
   ],
   "source": [
    "# Tokenize the text\n",
    "tokens = tok.word_tokenize(t, language = \"english\")\n",
    "\n",
    "# Remove punctuation marks and put everything in lower case\n",
    "tokens_new = [i.lower() for i in tokens if i.isalpha()]\n",
    "\n",
    "# Produce frequency distribution of the word lenghts\n",
    "d = {}\n",
    "for word in tokens_new:\n",
    "    word_length = len(word)\n",
    "    if word_length in d:\n",
    "        d[word_length] += 1\n",
    "    else: \n",
    "        d[word_length] = 1\n",
    "print(d)\n",
    "\n",
    "# Format as a dataframe\n",
    "df = pd.DataFrame(d.items(), columns=['Length', 'Frequency'])\n",
    "df"
   ]
  },
  {
   "cell_type": "markdown",
   "metadata": {},
   "source": [
    "c. What are the five most frequent word lengths? How long are the longest words of the text?"
   ]
  },
  {
   "cell_type": "code",
   "execution_count": 59,
   "metadata": {},
   "outputs": [
    {
     "name": "stdout",
     "output_type": "stream",
     "text": [
      "The five most frequent word lengths are:\n",
      "   Length  Frequency\n",
      "0       3      18723\n",
      "4       4      14154\n",
      "2       2      11281\n",
      "5       5       7542\n",
      "3       6       5213\n",
      "-------------------------\n",
      "The length of the longest words of the text is:\n",
      "16\n",
      "The number of words with this length is:\n",
      "1\n"
     ]
    }
   ],
   "source": [
    "# Sort the values by frequence and take the 5 highest values\n",
    "print(\"The five most frequent word lengths are:\")\n",
    "print(df.sort_values(\"Frequency\", ascending = False)[:5])\n",
    "\n",
    "print(\"-------------------------\")\n",
    "\n",
    "# Sort the values by length of the words and then take the maximum value\n",
    "print(\"The length of the longest words of the text is:\")\n",
    "print(df.sort_values(\"Length\").max()[0])\n",
    "print(\"The number of words with this length is:\")\n",
    "print(df.sort_values(\"Length\", ascending = False).iloc[0][1])"
   ]
  },
  {
   "cell_type": "markdown",
   "metadata": {},
   "source": [
    "d. Order the table by word length and produce a plot that shows the frequencies."
   ]
  },
  {
   "cell_type": "code",
   "execution_count": 60,
   "metadata": {},
   "outputs": [
    {
     "data": {
      "image/png": "[encoded data removed]",
      "text/plain": [
       "<Figure size 640x480 with 1 Axes>"
      ]
     },
     "metadata": {},
     "output_type": "display_data"
    }
   ],
   "source": [
    "# Sort the values by length\n",
    "df_length = df.sort_values(\"Length\")\n",
    "\n",
    "# Create the plot\n",
    "plt.figure()\n",
    "plt.plot(df_length.Length, df_length.Frequency, color = \"r\")\n",
    "plt.bar(df_length.Length, df_length.Frequency, color = \"lightgreen\")\n",
    "plt.xlabel(\"Length of words\")\n",
    "plt.ylabel(\"Frequency\")\n",
    "plt.title(\"Frequency for length of words\")\n",
    "plt.show()"
   ]
  },
  {
   "cell_type": "markdown",
   "metadata": {},
   "source": [
    "e. Also produce a visualization with the data ordered by decreasing frequency."
   ]
  },
  {
   "cell_type": "code",
   "execution_count": 81,
   "metadata": {},
   "outputs": [
    {
     "name": "stdout",
     "output_type": "stream",
     "text": [
      "        Length  Frequency\n",
      "Length                   \n",
      "3            3      18723\n",
      "4            4      14154\n",
      "2            2      11281\n",
      "5            5       7542\n",
      "6            6       5213\n",
      "1            1       4508\n",
      "7            7       3843\n",
      "8            8       2359\n",
      "9            9       1531\n",
      "10          10        810\n",
      "11          11        458\n",
      "12          12        200\n",
      "13          13         73\n",
      "14          14         33\n",
      "15          15          7\n",
      "16          16          1\n"
     ]
    },
    {
     "data": {
      "text/plain": [
       "[]"
      ]
     },
     "execution_count": 81,
     "metadata": {},
     "output_type": "execute_result"
    },
    {
     "data": {
      "image/png": "[encoded data removed]",
      "text/plain": [
       "<Figure size 640x480 with 1 Axes>"
      ]
     },
     "metadata": {},
     "output_type": "display_data"
    }
   ],
   "source": [
    "# Sort the values by decreasing frequency\n",
    "df_freq = df.sort_values(\"Frequency\", ascending = False)\n",
    "df_freq.index = df_freq.Length\n",
    "print(df_freq)\n",
    "\n",
    "df_freq.Frequency.plot(kind = \"bar\")\n",
    "plt.xlabel(\"Length of the word\")\n",
    "plt.ylabel(\"Frequency\")\n",
    "plt.plot()"
   ]
  },
  {
   "cell_type": "markdown",
   "metadata": {},
   "source": [
    "f. When dealing with word frequency data, it is often recommended to plot frequencies on a \n",
    "logarithmic scale. How does this change the plots?\n"
   ]
  },
  {
   "cell_type": "code",
   "execution_count": 82,
   "metadata": {},
   "outputs": [
    {
     "data": {
      "image/png": "[encoded data removed]",
      "text/plain": [
       "<Figure size 640x480 with 1 Axes>"
      ]
     },
     "metadata": {},
     "output_type": "display_data"
    }
   ],
   "source": [
    "# Create the plot\n",
    "plt.figure()\n",
    "plt.plot(df_length.Length, np.log(df_length.Frequency), color = \"maroon\")\n",
    "plt.bar(df_length.Length, np.log(df_length.Frequency), color = \"khaki\")\n",
    "plt.xlabel(\"Length of words\")\n",
    "plt.ylabel(\"Logarithmic Frequency\")\n",
    "plt.title(\"Frequency for length of words\")\n",
    "plt.show()"
   ]
  },
  {
   "cell_type": "markdown",
   "metadata": {},
   "source": [
    "The result is different from the previous one: the Logarithmic Frequency of the words tends to be more stable than the Frequency. It goes from 8 to 10 for the shortest words (from length 1 to length 3), and then it starts decreasing in a more constant way. On the contrary, for the previous plot, the decrease of the curve was very sharp, more or less exponential."
   ]
  },
  {
   "cell_type": "markdown",
   "metadata": {},
   "source": [
    "g. How well does this dataset match Zipf’s law of abbreviation? In your opinion, which plot is most \n",
    "suitable to prove or disprove the law of abbreviation? Answer in text."
   ]
  },
  {
   "cell_type": "markdown",
   "metadata": {},
   "source": [
    "Zip's law of abbreviation states that the length of a word is inversely correlated with its frequency. It seems that this behaviour can be seen also in this case, in particular for the words of length higher than or equal to 3. \n",
    "\n",
    "In my opinion, the best plot to prove the law of abbreviation is the first one I created (without the logarithmic scale). That is because with this graph I am able to understand well the relationship between length of words and frequency, proving that somehow the frequence decrease as the lenght increase."
   ]
  },
  {
   "cell_type": "markdown",
   "metadata": {},
   "source": [
    "h. Select one word length (maybe there are some outliers in the plots that you want to know more \n",
    "about?) and investigate in detail which words of this word length occur in the text. Are these \n",
    "words specific to the Tom Sawyer text, or would you expect them to occur similarly frequently in \n",
    "other English texts? Or is there any evidence of preprocessing (e.g. tokenization) errors?"
   ]
  },
  {
   "cell_type": "markdown",
   "metadata": {},
   "source": [
    "I want to investigate more about the words of length 3, as their frequency is very high with respect to the others."
   ]
  },
  {
   "cell_type": "code",
   "execution_count": 83,
   "metadata": {},
   "outputs": [
    {
     "name": "stdout",
     "output_type": "stream",
     "text": [
      "   Word  Frequency\n",
      "0   the       3747\n",
      "4   and       3005\n",
      "57  was       1162\n",
      "51  you        833\n",
      "7   his        819\n",
      "1   tom        777\n",
      "24  but        545\n",
      "19  for        510\n",
      "71  had        510\n",
      "65  him        411\n",
      "52  she        394\n",
      "44  all        318\n",
      "25  not        282\n",
      "2   her        278\n",
      "38  out        267\n",
      "77  now        255\n",
      "60  don        213\n",
      "41  one        184\n",
      "40  got        171\n",
      "8   joe        164\n",
      "56  did        138\n",
      "59  see        132\n",
      "16  boy        129\n",
      "28  ain        119\n",
      "64  can        118\n",
      "------------------\n",
      "Total frequence:\n",
      "18723\n"
     ]
    }
   ],
   "source": [
    "# Create a dictionary with all the words of length 3 and their frequencies\n",
    "d = {}\n",
    "for word in tokens_new:\n",
    "    if len(word) == 3:\n",
    "        if word not in d:\n",
    "            d[word] = 1\n",
    "        else:\n",
    "            d[word] += 1\n",
    "\n",
    "# Transform in a dataset and print it ordered by descending frequency\n",
    "df_three = pd.DataFrame(d.items(), columns=[\"Word\", \"Frequency\"])\n",
    "df_three = df_three.sort_values(\"Frequency\", ascending = False)\n",
    "print(df_three[0:25])\n",
    "print(\"------------------\")\n",
    "print(\"Total frequence:\")\n",
    "print(sum(df_three.Frequency))"
   ]
  },
  {
   "cell_type": "markdown",
   "metadata": {},
   "source": [
    "From this analysis, we can see that the most frequent words in this category are very common words in English. So, I suppose that this behavior is normal, and I expect to see a very high frequence for words of length 3 also in other English texts. Surely, the fact that the protagonist of the novel is called Tom increases the number of times words of this length appear in the text. However, the frequence for the word Tom is not so high (781), which is just arount the 4% of the total words of length three (which are 19306). So, the word Tom does not give a high contribution to this behavious, that is just a normal behaviour due to English language. "
   ]
  },
  {
   "cell_type": "code",
   "execution_count": 84,
   "metadata": {},
   "outputs": [
    {
     "name": "stdout",
     "output_type": "stream",
     "text": [
      "Percentage of \"Tom\" in the text, \n",
      "      with respect to all the words of length 3:\n",
      "4.149975965390162 %.\n"
     ]
    }
   ],
   "source": [
    "# See the percentage of word \"Tom\" with respect to all the words of length 3 in the text\n",
    "print(\"\"\"Percentage of \\\"Tom\\\" in the text, \n",
    "      with respect to all the words of length 3:\"\"\")\n",
    "print(df_three.iloc[5][1]/sum(df_three.Frequency)*100, \"%.\")"
   ]
  },
  {
   "cell_type": "markdown",
   "metadata": {},
   "source": [
    "**Part 3 – Identifying dialogue act types in chat messages (35 pts)**\n"
   ]
  },
  {
   "cell_type": "code",
   "execution_count": 85,
   "metadata": {},
   "outputs": [
    {
     "name": "stderr",
     "output_type": "stream",
     "text": [
      "[nltk_data] Downloading package nps_chat to\n",
      "[nltk_data]     C:\\Users\\sanfe\\AppData\\Roaming\\nltk_data...\n",
      "[nltk_data]   Package nps_chat is already up-to-date!\n"
     ]
    },
    {
     "name": "stdout",
     "output_type": "stream",
     "text": [
      "         label                                         text\n",
      "0    Statement               now im left with this gay name\n",
      "1      Emotion                                           :P\n",
      "2       System                                         PART\n",
      "3        Greet                               hey everyone  \n",
      "4    Statement                                      ah well\n",
      "5       System                         NICK :10-19-20sUser7\n",
      "6       Accept                10-19-20sUser7 is a gay name.\n",
      "7       System  .ACTION gives 10-19-20sUser121 a golf clap.\n",
      "8      Emotion                                           :)\n",
      "9       System                                         JOIN\n",
      "10       Greet                           hi 10-19-20sUser59\n",
      "11   Statement   26/ m/ ky women that are nice please pm me\n",
      "12      System                                         JOIN\n",
      "13      System                                         PART\n",
      "14   Statement                   there ya go 10-19-20sUser7\n",
      "15      Reject                          don't golf clap me.\n",
      "16      Reject                  fuck you 10-19-20sUser121:@\n",
      "17  whQuestion                        whats everyone up to?\n",
      "18      System                                         PART\n",
      "19      System                                         PART\n"
     ]
    }
   ],
   "source": [
    "# Load the chat data into a Pandas dataframe \n",
    "nltk.download(\"nps_chat\")\n",
    "from nltk.corpus import nps_chat\n",
    "data = []\n",
    "for f in nps_chat.fileids():\n",
    "    posts = nps_chat.xml_posts(f)\n",
    "    for p in posts:\n",
    "        data.append((p.get('class'), p.text))\n",
    "df_chat = pd.DataFrame(data, columns=['label', 'text'])\n",
    "print(df_chat.head(20))\n"
   ]
  },
  {
   "cell_type": "markdown",
   "metadata": {},
   "source": [
    "a. Answer the following questions:\n",
    "\n",
    "• How many distinct labels are there, and how many instances per label?"
   ]
  },
  {
   "cell_type": "code",
   "execution_count": 86,
   "metadata": {},
   "outputs": [
    {
     "name": "stdout",
     "output_type": "stream",
     "text": [
      "Number of distinct labels:\n",
      "15\n",
      "-------------------------\n",
      "Number of instances per label:\n",
      "Statement     3185\n",
      "System        2632\n",
      "Greet         1363\n",
      "Emotion       1106\n",
      "ynQuestion     550\n",
      "whQuestion     533\n",
      "Accept         233\n",
      "Bye            195\n",
      "Emphasis       190\n",
      "Continuer      168\n",
      "Reject         159\n",
      "yAnswer        108\n",
      "nAnswer         72\n",
      "Clarify         38\n",
      "Other           35\n",
      "Name: label, dtype: int64\n"
     ]
    }
   ],
   "source": [
    "# Number of distinct labels\n",
    "print(\"Number of distinct labels:\")\n",
    "print(len(df_chat.label.unique()))\n",
    "\n",
    "print(\"-------------------------\")\n",
    "\n",
    "# Number of instances per label\n",
    "print(\"Number of instances per label:\")\n",
    "print(df_chat.label.value_counts())"
   ]
  },
  {
   "cell_type": "markdown",
   "metadata": {},
   "source": [
    "• Try to understand what the labels mean, looking at some examples if necessary."
   ]
  },
  {
   "cell_type": "markdown",
   "metadata": {},
   "source": [
    "Understanding of the labels:\n",
    "- Statement: sentences where something is stated;\n",
    "- System: system messages (they are mostly \"PART\" and \"JOIN\");\n",
    "- Greet: sentences with the aim of greeting someone;\n",
    "- Emotion: expressions used to represent and reflect emotions;\n",
    "- ynQuestion: questions which requires Yes or No as answers;\n",
    "- whQuestion: questions starting with who, what, where, when or why;\n",
    "- Accept: affermative answers or statments;\n",
    "- Bye: sentences or expressions aimed at saying bye;\n",
    "- Emphasis: sentences with exclamation marks, used to give emphasis to the message;\n",
    "- Continuer: sentences used to continue other unfinished sentences (e. g. sentences containing and, or...);\n",
    "- Reject: sentences with the aim or rejecting something or someone or saying no;\n",
    "- yAnswer: short sentences (maybe answers) with affirmative meaning;\n",
    "- nAnswer: short sentences (maybe answers) with negative meaning;\n",
    "- Clarify: adverbs, words or expressions used to clarify or correct something previously written;\n",
    "- Other: numbers, symbols and other unclear expressions."
   ]
  },
  {
   "cell_type": "markdown",
   "metadata": {},
   "source": [
    "• What is the average message length (in characters)?"
   ]
  },
  {
   "cell_type": "code",
   "execution_count": 87,
   "metadata": {},
   "outputs": [
    {
     "data": {
      "text/plain": [
       "21.910570644459167"
      ]
     },
     "execution_count": 87,
     "metadata": {},
     "output_type": "execute_result"
    }
   ],
   "source": [
    "# Average message length (in characters), \n",
    "# taking into account also the spaces between words\n",
    "l = []\n",
    "for i in df_chat.text:\n",
    "    l.append(len(i))\n",
    "np.mean(l)"
   ]
  },
  {
   "cell_type": "markdown",
   "metadata": {},
   "source": [
    "- How do these numbers compare to the Movie Reviews corpus used in the last exercise set?"
   ]
  },
  {
   "cell_type": "markdown",
   "metadata": {},
   "source": [
    "In the Movie Reviews corpus used in the last exercise set, the average length of reviews was much more higher than this case. I think it is mostly due to the fact that here we are talking about online chat conversations, where it is very common to write very short messages. On the contrary, for movies reviews, it is more natural to write a longer text."
   ]
  },
  {
   "cell_type": "markdown",
   "metadata": {},
   "source": [
    "• Explain in a few sentences how these differences may impact the text classification \n",
    "performance. Which text classification methods or parameter settings do you expect to \n",
    "be better adapted to the NPS Chat problem?"
   ]
  },
  {
   "cell_type": "code",
   "execution_count": null,
   "metadata": {},
   "outputs": [],
   "source": []
  },
  {
   "cell_type": "markdown",
   "metadata": {},
   "source": [
    "Replicate the multinomial Naïve Bayes system from the last exercise set. Concretely:\n",
    "\n",
    "• Split the data into training and test data. To simplify things, we will just use a two-way split of \n",
    "90% training data and 10% test data in this first experiment."
   ]
  },
  {
   "cell_type": "code",
   "execution_count": 93,
   "metadata": {},
   "outputs": [],
   "source": [
    "x_train, x_test, y_train, y_test = train_test_split(df_chat[\"text\"], \n",
    "                                                    df_chat[\"label\"], \n",
    "                                                    test_size = 0.1, \n",
    "                                                    random_state = 42)"
   ]
  },
  {
   "cell_type": "markdown",
   "metadata": {},
   "source": [
    "• Instantiate a CountVectorizer with default parameters and fit it to the training data."
   ]
  },
  {
   "cell_type": "code",
   "execution_count": 94,
   "metadata": {},
   "outputs": [],
   "source": [
    "cv = CountVectorizer()\n",
    "x_train_bow = cv.fit_transform(x_train)"
   ]
  },
  {
   "cell_type": "markdown",
   "metadata": {},
   "source": [
    "• Instantiate a MultinomialNB model and fit it to the training data."
   ]
  },
  {
   "cell_type": "code",
   "execution_count": 95,
   "metadata": {},
   "outputs": [
    {
     "data": {
      "text/html": [
       "<style>#sk-container-id-4 {color: black;background-color: white;}#sk-container-id-4 pre{padding: 0;}#sk-container-id-4 div.sk-toggleable {background-color: white;}#sk-container-id-4 label.sk-toggleable__label {cursor: pointer;display: block;width: 100%;margin-bottom: 0;padding: 0.3em;box-sizing: border-box;text-align: center;}#sk-container-id-4 label.sk-toggleable__label-arrow:before {content: \"▸\";float: left;margin-right: 0.25em;color: #696969;}#sk-container-id-4 label.sk-toggleable__label-arrow:hover:before {color: black;}#sk-container-id-4 div.sk-estimator:hover label.sk-toggleable__label-arrow:before {color: black;}#sk-container-id-4 div.sk-toggleable__content {max-height: 0;max-width: 0;overflow: hidden;text-align: left;background-color: #f0f8ff;}#sk-container-id-4 div.sk-toggleable__content pre {margin: 0.2em;color: black;border-radius: 0.25em;background-color: #f0f8ff;}#sk-container-id-4 input.sk-toggleable__control:checked~div.sk-toggleable__content {max-height: 200px;max-width: 100%;overflow: auto;}#sk-container-id-4 input.sk-toggleable__control:checked~label.sk-toggleable__label-arrow:before {content: \"▾\";}#sk-container-id-4 div.sk-estimator input.sk-toggleable__control:checked~label.sk-toggleable__label {background-color: #d4ebff;}#sk-container-id-4 div.sk-label input.sk-toggleable__control:checked~label.sk-toggleable__label {background-color: #d4ebff;}#sk-container-id-4 input.sk-hidden--visually {border: 0;clip: rect(1px 1px 1px 1px);clip: rect(1px, 1px, 1px, 1px);height: 1px;margin: -1px;overflow: hidden;padding: 0;position: absolute;width: 1px;}#sk-container-id-4 div.sk-estimator {font-family: monospace;background-color: #f0f8ff;border: 1px dotted black;border-radius: 0.25em;box-sizing: border-box;margin-bottom: 0.5em;}#sk-container-id-4 div.sk-estimator:hover {background-color: #d4ebff;}#sk-container-id-4 div.sk-parallel-item::after {content: \"\";width: 100%;border-bottom: 1px solid gray;flex-grow: 1;}#sk-container-id-4 div.sk-label:hover label.sk-toggleable__label {background-color: #d4ebff;}#sk-container-id-4 div.sk-serial::before {content: \"\";position: absolute;border-left: 1px solid gray;box-sizing: border-box;top: 0;bottom: 0;left: 50%;z-index: 0;}#sk-container-id-4 div.sk-serial {display: flex;flex-direction: column;align-items: center;background-color: white;padding-right: 0.2em;padding-left: 0.2em;position: relative;}#sk-container-id-4 div.sk-item {position: relative;z-index: 1;}#sk-container-id-4 div.sk-parallel {display: flex;align-items: stretch;justify-content: center;background-color: white;position: relative;}#sk-container-id-4 div.sk-item::before, #sk-container-id-4 div.sk-parallel-item::before {content: \"\";position: absolute;border-left: 1px solid gray;box-sizing: border-box;top: 0;bottom: 0;left: 50%;z-index: -1;}#sk-container-id-4 div.sk-parallel-item {display: flex;flex-direction: column;z-index: 1;position: relative;background-color: white;}#sk-container-id-4 div.sk-parallel-item:first-child::after {align-self: flex-end;width: 50%;}#sk-container-id-4 div.sk-parallel-item:last-child::after {align-self: flex-start;width: 50%;}#sk-container-id-4 div.sk-parallel-item:only-child::after {width: 0;}#sk-container-id-4 div.sk-dashed-wrapped {border: 1px dashed gray;margin: 0 0.4em 0.5em 0.4em;box-sizing: border-box;padding-bottom: 0.4em;background-color: white;}#sk-container-id-4 div.sk-label label {font-family: monospace;font-weight: bold;display: inline-block;line-height: 1.2em;}#sk-container-id-4 div.sk-label-container {text-align: center;}#sk-container-id-4 div.sk-container {/* jupyter's `normalize.less` sets `[hidden] { display: none; }` but bootstrap.min.css set `[hidden] { display: none !important; }` so we also need the `!important` here to be able to override the default hidden behavior on the sphinx rendered scikit-learn.org. See: https://github.com/scikit-learn/scikit-learn/issues/21755 */display: inline-block !important;position: relative;}#sk-container-id-4 div.sk-text-repr-fallback {display: none;}</style><div id=\"sk-container-id-4\" class=\"sk-top-container\"><div class=\"sk-text-repr-fallback\"><pre>MultinomialNB()</pre><b>In a Jupyter environment, please rerun this cell to show the HTML representation or trust the notebook. <br />On GitHub, the HTML representation is unable to render, please try loading this page with nbviewer.org.</b></div><div class=\"sk-container\" hidden><div class=\"sk-item\"><div class=\"sk-estimator sk-toggleable\"><input class=\"sk-toggleable__control sk-hidden--visually\" id=\"sk-estimator-id-4\" type=\"checkbox\" checked><label for=\"sk-estimator-id-4\" class=\"sk-toggleable__label sk-toggleable__label-arrow\">MultinomialNB</label><div class=\"sk-toggleable__content\"><pre>MultinomialNB()</pre></div></div></div></div></div>"
      ],
      "text/plain": [
       "MultinomialNB()"
      ]
     },
     "execution_count": 95,
     "metadata": {},
     "output_type": "execute_result"
    }
   ],
   "source": [
    "nb = MultinomialNB()\n",
    "nb.fit(x_train_bow, y_train)"
   ]
  },
  {
   "cell_type": "markdown",
   "metadata": {},
   "source": [
    "• Predict the test set labels using the trained model and display the classification report."
   ]
  },
  {
   "cell_type": "code",
   "execution_count": 96,
   "metadata": {},
   "outputs": [
    {
     "name": "stdout",
     "output_type": "stream",
     "text": [
      "              precision    recall  f1-score   support\n",
      "\n",
      "      Accept       1.00      0.09      0.16        23\n",
      "         Bye       1.00      0.29      0.44        14\n",
      "     Clarify       0.00      0.00      0.00         3\n",
      "   Continuer       0.00      0.00      0.00        16\n",
      "     Emotion       0.92      0.60      0.73       116\n",
      "    Emphasis       0.00      0.00      0.00        12\n",
      "       Greet       0.71      0.96      0.82       135\n",
      "       Other       0.00      0.00      0.00         2\n",
      "      Reject       0.00      0.00      0.00        21\n",
      "   Statement       0.61      0.88      0.72       315\n",
      "      System       0.94      0.97      0.95       292\n",
      "     nAnswer       0.00      0.00      0.00         7\n",
      "  whQuestion       0.86      0.46      0.60        41\n",
      "     yAnswer       0.00      0.00      0.00         8\n",
      "  ynQuestion       0.67      0.23      0.34        52\n",
      "\n",
      "    accuracy                           0.75      1057\n",
      "   macro avg       0.45      0.30      0.32      1057\n",
      "weighted avg       0.73      0.75      0.71      1057\n",
      "\n"
     ]
    },
    {
     "name": "stderr",
     "output_type": "stream",
     "text": [
      "c:\\Users\\sanfe\\AppData\\Local\\Programs\\Python\\Python311\\Lib\\site-packages\\sklearn\\metrics\\_classification.py:1344: UndefinedMetricWarning: Precision and F-score are ill-defined and being set to 0.0 in labels with no predicted samples. Use `zero_division` parameter to control this behavior.\n",
      "  _warn_prf(average, modifier, msg_start, len(result))\n",
      "c:\\Users\\sanfe\\AppData\\Local\\Programs\\Python\\Python311\\Lib\\site-packages\\sklearn\\metrics\\_classification.py:1344: UndefinedMetricWarning: Precision and F-score are ill-defined and being set to 0.0 in labels with no predicted samples. Use `zero_division` parameter to control this behavior.\n",
      "  _warn_prf(average, modifier, msg_start, len(result))\n",
      "c:\\Users\\sanfe\\AppData\\Local\\Programs\\Python\\Python311\\Lib\\site-packages\\sklearn\\metrics\\_classification.py:1344: UndefinedMetricWarning: Precision and F-score are ill-defined and being set to 0.0 in labels with no predicted samples. Use `zero_division` parameter to control this behavior.\n",
      "  _warn_prf(average, modifier, msg_start, len(result))\n"
     ]
    }
   ],
   "source": [
    "x_test_bow = cv.transform(x_test)\n",
    "# Prediction\n",
    "predicted_y = nb.predict(x_test_bow)\n",
    "\n",
    "# Classification report\n",
    "print(metrics.classification_report(y_test, predicted_y))"
   ]
  },
  {
   "cell_type": "markdown",
   "metadata": {},
   "source": [
    "b. Write a few lines about your observations: Which classes are the easiest / most difficult to predict? "
   ]
  },
  {
   "cell_type": "markdown",
   "metadata": {},
   "source": []
  },
  {
   "cell_type": "markdown",
   "metadata": {},
   "source": [
    "The most difficult classes to predict are Clarify, Continuer, nAnswer, Emphasis, Reject yAnswer and Other with both precision and recall equal to 0."
   ]
  },
  {
   "cell_type": "markdown",
   "metadata": {},
   "source": [
    "Are there classes where precision differs drastically from recall, and if so, what does this \n",
    "mean?\n"
   ]
  },
  {
   "cell_type": "markdown",
   "metadata": {},
   "source": [
    "There are some classes where precision and recall are drastically different. These classes are: Accept, Bye, whQuestion, Reject, especially the last one. In particular, for these classes, precision is very high with respect to recall. This means that the model has high probability of being right when predicting a positive value, while it has low probability of identifying correctly all the positives."
   ]
  },
  {
   "cell_type": "markdown",
   "metadata": {},
   "source": [
    "c. Produce the cross-validation scores with the initial Naïve Bayes model."
   ]
  },
  {
   "cell_type": "code",
   "execution_count": 97,
   "metadata": {},
   "outputs": [
    {
     "name": "stdout",
     "output_type": "stream",
     "text": [
      "0.701 accuracy with a standard deviation of 0.008\n"
     ]
    }
   ],
   "source": [
    "x_train, x_test, y_train, y_test = train_test_split(df_chat[\"text\"], \n",
    "                                                    df_chat[\"label\"], \n",
    "                                                    test_size = 0.1,\n",
    "                                                    random_state = 42)\n",
    "\n",
    "cv = CountVectorizer()\n",
    "x_train_bow = cv.fit_transform(x_train)\n",
    "\n",
    "nb = MultinomialNB()\n",
    "nb.fit(x_train_bow, y_train)\n",
    "\n",
    "x_test_bow = cv.transform(x_test)\n",
    "predicted_y = nb.predict(x_test_bow)\n",
    "\n",
    "# Five-fold cross-validation\n",
    "scores = cross_val_score(nb, x_train_bow, y_train, cv=5)\n",
    "print(\"{:.3f} accuracy with a standard deviation of {:.3f}\".format(scores.mean(), \n",
    "                                                                   scores.std()))"
   ]
  },
  {
   "cell_type": "markdown",
   "metadata": {},
   "source": [
    "d. By default, the CountVectorizer lowercases all input and uses a simple whitespace-based \n",
    "tokenizer. Check if other settings provide better results."
   ]
  },
  {
   "cell_type": "code",
   "execution_count": 38,
   "metadata": {},
   "outputs": [
    {
     "name": "stdout",
     "output_type": "stream",
     "text": [
      "0.559 accuracy with a standard deviation of 0.007\n"
     ]
    }
   ],
   "source": [
    "cv = CountVectorizer(stop_words = \"english\") #CHANGEEE!!!\n",
    "x_train_bow = cv.fit_transform(x_train)\n",
    "\n",
    "nb = MultinomialNB()\n",
    "nb.fit(x_train_bow, y_train)\n",
    "\n",
    "x_test_bow = cv.transform(x_test)\n",
    "predicted_y = nb.predict(x_test_bow)\n",
    "\n",
    "# Five-fold cross-validation\n",
    "scores = cross_val_score(nb, x_train_bow, y_train, cv=5)\n",
    "print(\"{:.3f} accuracy with a standard deviation of {:.3f}\".format(scores.mean(), \n",
    "                                                                   scores.std()))"
   ]
  },
  {
   "cell_type": "markdown",
   "metadata": {},
   "source": [
    "The use of a built-in stop word list for English decreases a lot the accuracy of the model, which resuls to be way worse than before."
   ]
  },
  {
   "cell_type": "markdown",
   "metadata": {},
   "source": [
    "e. By default (and as its name implies), the CountVectorizer produces frequency counts. Evaluate \n",
    "the impact of binary feature values (presence or absence of a word in an instance). "
   ]
  },
  {
   "cell_type": "code",
   "execution_count": 98,
   "metadata": {},
   "outputs": [
    {
     "name": "stdout",
     "output_type": "stream",
     "text": [
      "0.702 accuracy with a standard deviation of 0.007\n"
     ]
    }
   ],
   "source": [
    "cv = CountVectorizer(binary = True)\n",
    "x_train_bow = cv.fit_transform(x_train)\n",
    "\n",
    "nb = MultinomialNB()\n",
    "nb.fit(x_train_bow, y_train)\n",
    "\n",
    "x_test_bow = cv.transform(x_test)\n",
    "predicted_y = nb.predict(x_test_bow)\n",
    "\n",
    "# Five-fold cross-validation\n",
    "scores = cross_val_score(nb, x_train_bow, y_train, cv=5)\n",
    "print(\"{:.3f} accuracy with a standard deviation of {:.3f}\".format(scores.mean(), \n",
    "                                                                   scores.std()))"
   ]
  },
  {
   "cell_type": "markdown",
   "metadata": {},
   "source": [
    "The set of binary property from False (default) to True (i.e. all non zero counts are set to 1) in the CountVectorizer allows to obtain a model whose accuracy is very similar to the first model (even a little bit better)."
   ]
  },
  {
   "cell_type": "markdown",
   "metadata": {},
   "source": [
    "There is a \n",
    "second way to include binary features, namely by using the BernoulliNB model instead of the \n",
    "MultinomialNB one. What is the difference between the binary multinomial model and the \n",
    "Bernoulli model (both in terms of scores and theoretically)?"
   ]
  },
  {
   "cell_type": "markdown",
   "metadata": {},
   "source": [
    "Theoretically, the difference between Multinomial and Bernoulli NB is that Multinomial NB uses count-based bags of words (you count how many times a word is present in a text), while Bernoulli NB uses binary counts (you register only whether a tern is present or not in a text: 1 if it present, 0 if it is not present). As a consequence, Multinomial NB considers only the presents terms, ignoring absent terms. On the contrary, Bernoulli NB considers both the present and the absent terms."
   ]
  },
  {
   "cell_type": "code",
   "execution_count": 99,
   "metadata": {},
   "outputs": [
    {
     "name": "stdout",
     "output_type": "stream",
     "text": [
      "0.629 accuracy with a standard deviation of 0.006\n"
     ]
    }
   ],
   "source": [
    "cv = CountVectorizer()\n",
    "x_train_bow = cv.fit_transform(x_train)\n",
    "\n",
    "nb = BernoulliNB()\n",
    "nb.fit(x_train_bow, y_train)\n",
    "\n",
    "x_test_bow = cv.transform(x_test)\n",
    "predicted_y = nb.predict(x_test_bow)\n",
    "\n",
    "# Five-fold cross-validation\n",
    "scores = cross_val_score(nb, x_train_bow, y_train, cv=5)\n",
    "print(\"{:.3f} accuracy with a standard deviation of {:.3f}\".format(scores.mean(), \n",
    "                                                                   scores.std()))"
   ]
  },
  {
   "cell_type": "markdown",
   "metadata": {},
   "source": [
    "It seems that the Bernoulli NB produces a worse result in this case."
   ]
  },
  {
   "cell_type": "markdown",
   "metadata": {},
   "source": [
    "f. We know that Logistic Regression may produce better results than Naive Bayes. We will see \n",
    "what happens if we use Logistic Regression instead of Naive Bayes on this task. Keep the same \n",
    "CountVectorizer as before and replace the Naïve Bayes classifier by a Logistic Regression one \n",
    "with default parameters.\n",
    "\n",
    "You may have to revisit the count/binary features distinction and the case folding parameter as \n",
    "this is a different type of classifier."
   ]
  },
  {
   "cell_type": "code",
   "execution_count": 100,
   "metadata": {},
   "outputs": [
    {
     "name": "stdout",
     "output_type": "stream",
     "text": [
      "0.778 accuracy with a standard deviation of 0.006\n"
     ]
    }
   ],
   "source": [
    "cv = CountVectorizer()\n",
    "x_train_bow = cv.fit_transform(x_train)\n",
    "\n",
    "lr = LogisticRegression(max_iter = 200)\n",
    "lr.fit(x_train_bow, y_train)\n",
    "\n",
    "x_test_bow = cv.transform(x_test)\n",
    "predicted_y = lr.predict(x_test_bow)\n",
    "\n",
    "# Five-fold cross-validation\n",
    "scores = cross_val_score(lr, x_train_bow, y_train, cv=5)\n",
    "print(\"{:.3f} accuracy with a standard deviation of {:.3f}\".format(scores.mean(), \n",
    "                                                                   scores.std()))"
   ]
  },
  {
   "cell_type": "markdown",
   "metadata": {},
   "source": [
    "g. Evaluate different regularization settings (L2, L1, different values of C). The supported types of \n",
    "regularization depend on the Solver used for gradient descent. The documentation provides \n",
    "more details about the different available solvers:\n",
    "https://scikit-learn.org/stable/modules/generated/sklearn.linear_model.LogisticRegression.html\n"
   ]
  },
  {
   "cell_type": "code",
   "execution_count": 101,
   "metadata": {},
   "outputs": [
    {
     "name": "stdout",
     "output_type": "stream",
     "text": [
      "0.778 accuracy with a standard deviation of 0.004\n"
     ]
    }
   ],
   "source": [
    "cv = CountVectorizer()\n",
    "x_train_bow = cv.fit_transform(x_train)\n",
    "\n",
    "lr = LogisticRegression(solver = \"liblinear\")\n",
    "lr.fit(x_train_bow, y_train)\n",
    "\n",
    "x_test_bow = cv.transform(x_test)\n",
    "predicted_y = lr.predict(x_test_bow)\n",
    "\n",
    "# Five-fold cross-validation\n",
    "scores = cross_val_score(lr, x_train_bow, y_train, cv=5)\n",
    "print(\"{:.3f} accuracy with a standard deviation of {:.3f}\".format(scores.mean(), \n",
    "                                                                   scores.std()))"
   ]
  },
  {
   "cell_type": "code",
   "execution_count": 102,
   "metadata": {},
   "outputs": [
    {
     "name": "stdout",
     "output_type": "stream",
     "text": [
      "0.774 accuracy with a standard deviation of 0.005\n"
     ]
    }
   ],
   "source": [
    "cv = CountVectorizer()\n",
    "x_train_bow = cv.fit_transform(x_train)\n",
    "\n",
    "lr = LogisticRegression(penalty = \"l1\",solver = \"liblinear\")\n",
    "lr.fit(x_train_bow, y_train)\n",
    "\n",
    "x_test_bow = cv.transform(x_test)\n",
    "predicted_y = lr.predict(x_test_bow)\n",
    "\n",
    "# Five-fold cross-validation\n",
    "scores = cross_val_score(lr, x_train_bow, y_train, cv=5)\n",
    "print(\"{:.3f} accuracy with a standard deviation of {:.3f}\".format(scores.mean(), \n",
    "                                                                   scores.std()))"
   ]
  },
  {
   "cell_type": "code",
   "execution_count": 103,
   "metadata": {},
   "outputs": [
    {
     "name": "stdout",
     "output_type": "stream",
     "text": [
      "0.775 accuracy with a standard deviation of 0.006\n"
     ]
    }
   ],
   "source": [
    "cv = CountVectorizer()\n",
    "x_train_bow = cv.fit_transform(x_train)\n",
    "\n",
    "lr = LogisticRegression(solver = \"liblinear\", C = 4.0)\n",
    "lr.fit(x_train_bow, y_train)\n",
    "\n",
    "x_test_bow = cv.transform(x_test)\n",
    "predicted_y = lr.predict(x_test_bow)\n",
    "\n",
    "# Five-fold cross-validation\n",
    "scores = cross_val_score(lr, x_train_bow, y_train, cv=5)\n",
    "print(\"{:.3f} accuracy with a standard deviation of {:.3f}\".format(scores.mean(), \n",
    "                                                                   scores.std()))"
   ]
  },
  {
   "cell_type": "markdown",
   "metadata": {},
   "source": [
    "h. Retrain the best model on the entire training set and evaluate it on the test set. Report the \n",
    "detailed evaluation scores and compare them with the initial Naïve Bayes scores. On which \n",
    "classes did your model improve the most? Which classes are still difficult to predict?"
   ]
  },
  {
   "cell_type": "code",
   "execution_count": 105,
   "metadata": {},
   "outputs": [
    {
     "name": "stdout",
     "output_type": "stream",
     "text": [
      "0.778 accuracy with a standard deviation of 0.006\n",
      "-------------------------\n",
      "              precision    recall  f1-score   support\n",
      "\n",
      "      Accept       0.67      0.43      0.53        23\n",
      "         Bye       0.91      0.71      0.80        14\n",
      "     Clarify       0.00      0.00      0.00         3\n",
      "   Continuer       0.00      0.00      0.00        16\n",
      "     Emotion       0.87      0.69      0.77       116\n",
      "    Emphasis       0.00      0.00      0.00        12\n",
      "       Greet       0.93      0.93      0.93       135\n",
      "       Other       1.00      1.00      1.00         2\n",
      "      Reject       0.00      0.00      0.00        21\n",
      "   Statement       0.66      0.91      0.76       315\n",
      "      System       1.00      0.96      0.98       292\n",
      "     nAnswer       0.44      0.57      0.50         7\n",
      "  whQuestion       0.85      0.85      0.85        41\n",
      "     yAnswer       0.67      0.50      0.57         8\n",
      "  ynQuestion       0.61      0.33      0.42        52\n",
      "\n",
      "    accuracy                           0.81      1057\n",
      "   macro avg       0.57      0.53      0.54      1057\n",
      "weighted avg       0.78      0.81      0.79      1057\n",
      "\n"
     ]
    },
    {
     "name": "stderr",
     "output_type": "stream",
     "text": [
      "c:\\Users\\sanfe\\AppData\\Local\\Programs\\Python\\Python311\\Lib\\site-packages\\sklearn\\metrics\\_classification.py:1344: UndefinedMetricWarning: Precision and F-score are ill-defined and being set to 0.0 in labels with no predicted samples. Use `zero_division` parameter to control this behavior.\n",
      "  _warn_prf(average, modifier, msg_start, len(result))\n",
      "c:\\Users\\sanfe\\AppData\\Local\\Programs\\Python\\Python311\\Lib\\site-packages\\sklearn\\metrics\\_classification.py:1344: UndefinedMetricWarning: Precision and F-score are ill-defined and being set to 0.0 in labels with no predicted samples. Use `zero_division` parameter to control this behavior.\n",
      "  _warn_prf(average, modifier, msg_start, len(result))\n",
      "c:\\Users\\sanfe\\AppData\\Local\\Programs\\Python\\Python311\\Lib\\site-packages\\sklearn\\metrics\\_classification.py:1344: UndefinedMetricWarning: Precision and F-score are ill-defined and being set to 0.0 in labels with no predicted samples. Use `zero_division` parameter to control this behavior.\n",
      "  _warn_prf(average, modifier, msg_start, len(result))\n"
     ]
    }
   ],
   "source": [
    "cv = CountVectorizer()\n",
    "x_train_bow = cv.fit_transform(x_train)\n",
    "\n",
    "lr = LogisticRegression(max_iter = 200)\n",
    "lr.fit(x_train_bow, y_train)\n",
    "\n",
    "x_test_bow = cv.transform(x_test)\n",
    "predicted_y = lr.predict(x_test_bow)\n",
    "\n",
    "# Five-fold cross-validation\n",
    "scores = cross_val_score(lr, x_train_bow, y_train, cv=5)\n",
    "print(\"{:.3f} accuracy with a standard deviation of {:.3f}\".format(scores.mean(), \n",
    "                                                                   scores.std()))\n",
    "print(\"-------------------------\")\n",
    "\n",
    "# Classification report\n",
    "print(metrics.classification_report(y_test, predicted_y))"
   ]
  },
  {
   "cell_type": "markdown",
   "metadata": {},
   "source": [
    "In this case, the scores seem to be better than the initial Naïve Bayes scores. In particular, we can see that the classes Continuer, yAnswer and nAnswer have now higher values than in the previous case (where their precision and recall were both 0). Moreover, higher values are also present in other classes, maybe more for recall than for precision.\n",
    "\n",
    "There are some classes that are still difficult to predict, but less than before: now we have only Clarify and Emphasis with zero values in both precision and recall."
   ]
  }
 ],
 "metadata": {
  "kernelspec": {
   "display_name": "Python 3",
   "language": "python",
   "name": "python3"
  },
  "language_info": {
   "codemirror_mode": {
    "name": "ipython",
    "version": 3
   },
   "file_extension": ".py",
   "mimetype": "text/x-python",
   "name": "python",
   "nbconvert_exporter": "python",
   "pygments_lexer": "ipython3",
   "version": "3.11.1"
  },
  "orig_nbformat": 4
 },
 "nbformat": 4,
 "nbformat_minor": 2
}
