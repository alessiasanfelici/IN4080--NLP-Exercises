{
 "cells": [
  {
   "cell_type": "code",
   "execution_count": 5,
   "metadata": {},
   "outputs": [
    {
     "name": "stderr",
     "output_type": "stream",
     "text": [
      "c:\\Users\\sanfe\\AppData\\Local\\Programs\\Python\\Python311\\Lib\\site-packages\\tqdm\\auto.py:22: TqdmWarning: IProgress not found. Please update jupyter and ipywidgets. See https://ipywidgets.readthedocs.io/en/stable/user_install.html\n",
      "  from .autonotebook import tqdm as notebook_tqdm\n"
     ]
    }
   ],
   "source": [
    "import os, random, gzip, json, re\n",
    "import numpy as np\n",
    "import sentence_transformers\n",
    "from typing import List, Tuple, Dict\n",
    "\n",
    "DIALOGUE_FILE = \"en-comedy.txt.gz\"\n",
    "FIRST_NAMES = \"first_names.json\"\n",
    "SBERT_MODEL = \"all-MiniLM-L6-v2\"\n",
    "\n",
    "model = sentence_transformers.SentenceTransformer(SBERT_MODEL)"
   ]
  },
  {
   "cell_type": "code",
   "execution_count": 6,
   "metadata": {},
   "outputs": [
    {
     "name": "stdout",
     "output_type": "stream",
     "text": [
      "[(\"That's first.\", 'And then I will feel like I need to pee a little bit, and often times I do, just a little.'), (\"I'm just claustrophobic.\", \"I'll feel like...\"), (\"I'll feel like...\", \"Like, I'm trapped, like I can't go nowhere, you know, and I'll start getting like, all desperate, like, I need to get out of here.\"), ('Bird flu.', \"Nobody's going to get bird flu.\"), ('Why clean?', \"It only gets dirty again, that's my theory.\"), (\"I'm Mrs. Messy.\", 'Why do I think some people are scared of bugs?'), ('Because they...', \"They don't know any better.\"), (\"That's psychobabble.\", \"That's doubletalk.\"), (\"That's doubletalk.\", '\"The only thing you have to be afraid of is being afraid.\"'), ('Right there.', \"There's the immaturity.\"), ('Talk intelligent.', '- You sound like an idiot.'), (\"Don't make them...\", 'That \"special\" makes them sound like they got something wrong with them.'), ('That was...', 'I was just trying to be funny.'), (\"What's wrong with kids today?\", 'A lot of things are wrong.'), (\"They're over-privileged.\", 'They have too much money to spend.'), (\"I've gone through some tough times.\", \"I've been busted up some but, by golly, I'll tell you when that little grandson or granddaughter comes out and gives you a hug, why, you know, that's...\"), (\"He's pretty low-maintenance.\", \"I have tiny little feet like horses' hoofs.\"), (\"It's gone.\", \"I got them thick nails so when you cut them, you might wanna put a pair of goggles on, and stand back a minute, 'cause them babies might start popping and it's on.\"), (\"It's disgusting.\", \"Yet she's smiling and clapping.\"), (\"♪ they're laboratory mice ♪\", '♪ their genes have been spliced ♪'), (\"♪ they're dinky ♪\", \"♪ they're pinky and the brain ♪\")]\n"
     ]
    }
   ],
   "source": [
    "pairs = []\n",
    "input_text = None\n",
    "dialogue_started = False\n",
    "\n",
    "with open(\"first_names.json\", \"r\") as names_file:\n",
    "    name_list = [name.strip() for name in names_file.readlines()][0]\n",
    "    names_list = name_list.replace(\", \", \"\").replace('\"\"', '\"').split('\"')[1:-1]\n",
    "\n",
    "with gzip.open(DIALOGUE_FILE, \"rt\", encoding = \"utf-8\") as file:\n",
    "    for line in file:\n",
    "        line = line.strip()\n",
    "\n",
    "        if line.startswith(\"###\"):\n",
    "            dialogue_started = True\n",
    "            input_text = None\n",
    "            continue\n",
    "        \n",
    "        if not dialogue_started:\n",
    "            continue\n",
    "            \n",
    "        response_text = line\n",
    "\n",
    "        if input_text and not bool(re.search(r'[,\\(\\)\\[\\]\\{\\}\":;]', input_text)) and not input_text.isupper() \\\n",
    "                and not len(input_text.split()) > 10 and not any(word in name_list for word in input_text.split()) \\\n",
    "                and not len(input_text.split()) == 1:\n",
    "            pairs.append((input_text, response_text)) \n",
    "\n",
    "        input_text = response_text\n",
    "\n",
    "        if len(pairs) > 20:\n",
    "            print(pairs)\n",
    "            break\n",
    "    "
   ]
  },
  {
   "cell_type": "code",
   "execution_count": 17,
   "metadata": {},
   "outputs": [
    {
     "name": "stdout",
     "output_type": "stream",
     "text": [
      "[[-0.02892047 -0.09175336 -0.03663573 ...  0.06204863  0.14450513\n",
      "  -0.02157983]\n",
      " [ 0.12187161 -0.10628247  0.03366105 ...  0.01816681 -0.02022657\n",
      "  -0.05941494]\n",
      " [-0.11259668 -0.0756629   0.01430398 ... -0.02680683 -0.03479368\n",
      "  -0.07686378]\n",
      " ...\n",
      " [ 0.08680858  0.00744335  0.03650837 ... -0.00873115  0.0020918\n",
      "  -0.03564541]\n",
      " [-0.05748695 -0.05801114  0.05182722 ...  0.10805812  0.10157779\n",
      "  -0.04138391]\n",
      " [-0.01507761 -0.06479713  0.06085821 ...  0.08318344  0.01034151\n",
      "  -0.09962135]]\n"
     ]
    }
   ],
   "source": [
    "embeddings = []\n",
    "\n",
    "for input_text, response_text in pairs:\n",
    "    # compute the embedding using self.model and then add it to the list\n",
    "    embedding_input = model.encode(input_text)\n",
    "    embeddings.append(embedding_input)\n",
    "    \n",
    "# transform the list of embeddings into a matrix\n",
    "embeddings_matrix = np.vstack(embeddings)\n",
    "\n",
    "print(embeddings_matrix)"
   ]
  },
  {
   "cell_type": "code",
   "execution_count": 22,
   "metadata": {},
   "outputs": [
    {
     "name": "stdout",
     "output_type": "stream",
     "text": [
      "I got them thick nails so when you cut them, you might wanna put a pair of goggles on, and stand back a minute, 'cause them babies might start popping and it's on.\n"
     ]
    }
   ],
   "source": [
    "from scipy import spatial\n",
    "\n",
    "user_utterance = [\"I think I am lost.\"]\n",
    "user_embedding = np.squeeze(model.encode(user_utterance))\n",
    "\n",
    "# Compute cosine similarity between the user's embedding and all input embeddings\n",
    "similarities = 1 - np.apply_along_axis(lambda x: spatial.distance.cosine(user_embedding, x), 1, embeddings_matrix)\n",
    "\n",
    "# Find the index of the most similar input\n",
    "most_similar_index = np.argmax(similarities)\n",
    "    \n",
    "# Retrieve and return the corresponding response\n",
    "response = pairs[most_similar_index][1]\n",
    "print(response)"
   ]
  },
  {
   "cell_type": "code",
   "execution_count": null,
   "metadata": {},
   "outputs": [],
   "source": []
  }
 ],
 "metadata": {
  "kernelspec": {
   "display_name": "Python 3",
   "language": "python",
   "name": "python3"
  },
  "language_info": {
   "codemirror_mode": {
    "name": "ipython",
    "version": 3
   },
   "file_extension": ".py",
   "mimetype": "text/x-python",
   "name": "python",
   "nbconvert_exporter": "python",
   "pygments_lexer": "ipython3",
   "version": "3.11.1"
  }
 },
 "nbformat": 4,
 "nbformat_minor": 2
}
